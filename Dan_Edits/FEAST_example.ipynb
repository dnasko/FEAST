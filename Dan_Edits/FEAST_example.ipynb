{
 "cells": [
  {
   "cell_type": "markdown",
   "metadata": {},
   "source": [
    "## Install some dependencies"
   ]
  },
  {
   "cell_type": "code",
   "execution_count": 90,
   "metadata": {},
   "outputs": [],
   "source": [
    "## These are some packages you may need to install\n",
    "## Uncomment as needed...\n",
    "# install.packages('vegan')\n",
    "# install.packages('ggrepel')\n",
    "# install.packages('doParallel')\n",
    "# install.packages('cowplot')"
   ]
  },
  {
   "cell_type": "code",
   "execution_count": 3,
   "metadata": {},
   "outputs": [],
   "source": [
    "## These are the libraries FEAST needs\n",
    "library(\"vegan\")\n",
    "library(\"dplyr\")\n",
    "library(\"doParallel\")\n",
    "library(\"foreach\")\n",
    "library(\"mgcv\")\n",
    "library(\"reshape2\")\n",
    "library(\"ggplot2\")\n",
    "library(\"cowplot\")\n",
    "library(\"Rcpp\")\n",
    "library(\"RcppArmadillo\")"
   ]
  },
  {
   "cell_type": "markdown",
   "metadata": {},
   "source": [
    "## `FEAST_example.R`"
   ]
  },
  {
   "cell_type": "code",
   "execution_count": 4,
   "metadata": {},
   "outputs": [
    {
     "data": {
      "text/html": [
       "<table>\n",
       "<thead><tr><th></th><th scope=col>used</th><th scope=col>(Mb)</th><th scope=col>gc trigger</th><th scope=col>(Mb)</th><th scope=col>max used</th><th scope=col>(Mb)</th></tr></thead>\n",
       "<tbody>\n",
       "\t<tr><th scope=row>Ncells</th><td>1336074</td><td>71.4   </td><td>2164898</td><td>115.7  </td><td>1770749</td><td>94.6   </td></tr>\n",
       "\t<tr><th scope=row>Vcells</th><td>1440711</td><td>11.0   </td><td>2552219</td><td> 19.5  </td><td>2008760</td><td>15.4   </td></tr>\n",
       "</tbody>\n",
       "</table>\n"
      ],
      "text/latex": [
       "\\begin{tabular}{r|llllll}\n",
       "  & used & (Mb) & gc trigger & (Mb) & max used & (Mb)\\\\\n",
       "\\hline\n",
       "\tNcells & 1336074 & 71.4    & 2164898 & 115.7   & 1770749 & 94.6   \\\\\n",
       "\tVcells & 1440711 & 11.0    & 2552219 &  19.5   & 2008760 & 15.4   \\\\\n",
       "\\end{tabular}\n"
      ],
      "text/markdown": [
       "\n",
       "| <!--/--> | used | (Mb) | gc trigger | (Mb) | max used | (Mb) | \n",
       "|---|---|\n",
       "| Ncells | 1336074 | 71.4    | 2164898 | 115.7   | 1770749 | 94.6    | \n",
       "| Vcells | 1440711 | 11.0    | 2552219 |  19.5   | 2008760 | 15.4    | \n",
       "\n",
       "\n"
      ],
      "text/plain": [
       "       used    (Mb) gc trigger (Mb)  max used (Mb)\n",
       "Ncells 1336074 71.4 2164898    115.7 1770749  94.6\n",
       "Vcells 1440711 11.0 2552219     19.5 2008760  15.4"
      ]
     },
     "metadata": {},
     "output_type": "display_data"
    }
   ],
   "source": [
    "rm(list = ls())\n",
    "gc()"
   ]
  },
  {
   "cell_type": "code",
   "execution_count": 8,
   "metadata": {},
   "outputs": [
    {
     "name": "stdout",
     "output_type": "stream",
     "text": [
      "[1] \"Change directory path\"\n"
     ]
    }
   ],
   "source": [
    "print(\"Change directory path\")\n",
    "dir_path = paste(\"/home/jovyan/software/FEAST/\")\n",
    "setwd(paste0(dir_path, \"FEAST_src\"))\n",
    "source(\"src.R\")"
   ]
  },
  {
   "cell_type": "code",
   "execution_count": 10,
   "metadata": {},
   "outputs": [],
   "source": [
    "#Example data arguments\n",
    "metadata_file = \"metadata_example.txt\" #metadata file name\n",
    "count_matrix = \"otu_example.txt\" #count_matrix file name\n",
    "num_sources <- 7 #number of sources\n",
    "EM_iterations = 1000 # number of EM iterations. default value"
   ]
  },
  {
   "cell_type": "code",
   "execution_count": 11,
   "metadata": {},
   "outputs": [],
   "source": [
    "setwd(paste0(dir_path, \"Data_files\"))"
   ]
  },
  {
   "cell_type": "code",
   "execution_count": 12,
   "metadata": {},
   "outputs": [],
   "source": [
    "# Load sample metadata\n",
    "metadata <- read.csv(file = metadata_file ,header = T, sep = \"\\t\", row.names = 1)"
   ]
  },
  {
   "cell_type": "code",
   "execution_count": 13,
   "metadata": {},
   "outputs": [],
   "source": [
    "# Load OTU table\n",
    "otus <- read.table(file = count_matrix, header = T, comment = '', check = F, sep = '\\t')\n",
    "otus <- t(as.matrix(otus))"
   ]
  },
  {
   "cell_type": "code",
   "execution_count": 14,
   "metadata": {},
   "outputs": [],
   "source": [
    "# Extract only those samples in common between the two tables\n",
    "common.sample.ids <- intersect(rownames(metadata), rownames(otus))\n",
    "otus <- otus[common.sample.ids,]\n",
    "metadata <- metadata[common.sample.ids,]"
   ]
  },
  {
   "cell_type": "code",
   "execution_count": 15,
   "metadata": {},
   "outputs": [],
   "source": [
    "# Double-check that the mapping file and otu table had overlapping samples\n",
    "if(length(common.sample.ids) <= 1) {\n",
    "  message <- paste(sprintf('Error: there are %d sample ids in common '),\n",
    "                   'between the metadata file and data table')\n",
    "  stop(message)\n",
    "}"
   ]
  },
  {
   "cell_type": "code",
   "execution_count": 17,
   "metadata": {},
   "outputs": [
    {
     "data": {
      "text/html": [
       "<ol class=list-inline>\n",
       "\t<li>infant gut 1</li>\n",
       "\t<li>infant gut 2</li>\n",
       "\t<li>Adult gut 1</li>\n",
       "\t<li>Adult gut 2</li>\n",
       "\t<li>Adult gut 3</li>\n",
       "\t<li>Adult skin 1</li>\n",
       "\t<li>Adult skin 2</li>\n",
       "\t<li>Adult skin 3</li>\n",
       "\t<li>Soil 1</li>\n",
       "\t<li>Soil 2</li>\n",
       "</ol>\n",
       "\n",
       "<details>\n",
       "\t<summary style=display:list-item;cursor:pointer>\n",
       "\t\t<strong>Levels</strong>:\n",
       "\t</summary>\n",
       "\t<ol class=list-inline>\n",
       "\t\t<li>'Adult gut 1'</li>\n",
       "\t\t<li>'Adult gut 2'</li>\n",
       "\t\t<li>'Adult gut 3'</li>\n",
       "\t\t<li>'Adult skin 1'</li>\n",
       "\t\t<li>'Adult skin 2'</li>\n",
       "\t\t<li>'Adult skin 3'</li>\n",
       "\t\t<li>'infant gut 1'</li>\n",
       "\t\t<li>'infant gut 2'</li>\n",
       "\t\t<li>'Soil 1'</li>\n",
       "\t\t<li>'Soil 2'</li>\n",
       "\t</ol>\n",
       "</details>"
      ],
      "text/latex": [
       "\\begin{enumerate*}\n",
       "\\item infant gut 1\n",
       "\\item infant gut 2\n",
       "\\item Adult gut 1\n",
       "\\item Adult gut 2\n",
       "\\item Adult gut 3\n",
       "\\item Adult skin 1\n",
       "\\item Adult skin 2\n",
       "\\item Adult skin 3\n",
       "\\item Soil 1\n",
       "\\item Soil 2\n",
       "\\end{enumerate*}\n",
       "\n",
       "\\emph{Levels}: \\begin{enumerate*}\n",
       "\\item 'Adult gut 1'\n",
       "\\item 'Adult gut 2'\n",
       "\\item 'Adult gut 3'\n",
       "\\item 'Adult skin 1'\n",
       "\\item 'Adult skin 2'\n",
       "\\item 'Adult skin 3'\n",
       "\\item 'infant gut 1'\n",
       "\\item 'infant gut 2'\n",
       "\\item 'Soil 1'\n",
       "\\item 'Soil 2'\n",
       "\\end{enumerate*}\n"
      ],
      "text/markdown": [
       "1. infant gut 1\n",
       "2. infant gut 2\n",
       "3. Adult gut 1\n",
       "4. Adult gut 2\n",
       "5. Adult gut 3\n",
       "6. Adult skin 1\n",
       "7. Adult skin 2\n",
       "8. Adult skin 3\n",
       "9. Soil 1\n",
       "10. Soil 2\n",
       "\n",
       "\n",
       "\n",
       "**Levels**: 1. 'Adult gut 1'\n",
       "2. 'Adult gut 2'\n",
       "3. 'Adult gut 3'\n",
       "4. 'Adult skin 1'\n",
       "5. 'Adult skin 2'\n",
       "6. 'Adult skin 3'\n",
       "7. 'infant gut 1'\n",
       "8. 'infant gut 2'\n",
       "9. 'Soil 1'\n",
       "10. 'Soil 2'\n",
       "\n",
       "\n"
      ],
      "text/plain": [
       " [1] infant gut 1 infant gut 2 Adult gut 1  Adult gut 2  Adult gut 3 \n",
       " [6] Adult skin 1 Adult skin 2 Adult skin 3 Soil 1       Soil 2      \n",
       "10 Levels: Adult gut 1 Adult gut 2 Adult gut 3 Adult skin 1 ... Soil 2"
      ]
     },
     "metadata": {},
     "output_type": "display_data"
    }
   ],
   "source": [
    "envs <- metadata$Env\n",
    "envs"
   ]
  },
  {
   "cell_type": "code",
   "execution_count": 22,
   "metadata": {},
   "outputs": [],
   "source": [
    "# Extract the source environments and source/sink indices\n",
    "\n",
    "train.ix <- which(metadata$SourceSink=='Source')\n",
    "test.ix <- which(metadata$SourceSink=='Sink')\n",
    "# COVERAGE =  min(rowSums(otus[c(train.ix, test.ix),]))  #Can be adjusted by the user\n",
    "COVERAGE = 5000"
   ]
  },
  {
   "cell_type": "code",
   "execution_count": 23,
   "metadata": {},
   "outputs": [
    {
     "name": "stdout",
     "output_type": "stream",
     "text": [
      "[1] \"Number of OTUs in the sink sample =  81\"\n",
      "[1] \"Seq depth in the sources and sink samples =  5000\"\n",
      "[1] \"The sink is: infant gut 1\"\n"
     ]
    }
   ],
   "source": [
    "# Define sources and sinks\n",
    "\n",
    "sources <- as.matrix(rarefy(otus[train.ix,], COVERAGE))\n",
    "sinks <- as.matrix(rarefy(t(as.matrix(otus[test.ix,])), COVERAGE))\n",
    "\n",
    "print(paste(\"Number of OTUs in the sink sample = \",length(which(sinks > 0))))\n",
    "print(paste(\"Seq depth in the sources and sink samples = \",COVERAGE))\n",
    "print(paste(\"The sink is:\", envs[test.ix]))"
   ]
  },
  {
   "cell_type": "code",
   "execution_count": 69,
   "metadata": {},
   "outputs": [],
   "source": [
    "# Estimate source proportions for each sink\n",
    "\n",
    "FEAST_output<-FEAST(source=sources, sinks = t(sinks), env = envs[train.ix], em_itr = EM_iterations, COVERAGE = COVERAGE)\n",
    "Proportions_est <- FEAST_output$data_prop[,1]\n",
    "names(Proportions_est) <- c(as.character(envs[train.ix]), \"unknown\")"
   ]
  },
  {
   "cell_type": "code",
   "execution_count": 70,
   "metadata": {},
   "outputs": [
    {
     "name": "stdout",
     "output_type": "stream",
     "text": [
      "[1] \"Source mixing proportions\"\n"
     ]
    },
    {
     "data": {
      "text/html": [
       "<table>\n",
       "<thead><tr><th></th><th scope=col>trial_0</th></tr></thead>\n",
       "<tbody>\n",
       "\t<tr><th scope=row>infant gut 2</th><td>8.276663e-01</td></tr>\n",
       "\t<tr><th scope=row>Adult gut 1</th><td>6.286219e-08</td></tr>\n",
       "\t<tr><th scope=row>Adult gut 2</th><td>2.356501e-04</td></tr>\n",
       "\t<tr><th scope=row>Adult gut 3</th><td>7.259717e-02</td></tr>\n",
       "\t<tr><th scope=row>Adult skin 1</th><td>2.051198e-03</td></tr>\n",
       "\t<tr><th scope=row>Adult skin 2</th><td>3.726890e-04</td></tr>\n",
       "\t<tr><th scope=row>Adult skin 3</th><td>2.328611e-15</td></tr>\n",
       "\t<tr><th scope=row>Soil 1</th><td>9.525791e-19</td></tr>\n",
       "\t<tr><th scope=row>Soil 2</th><td>6.457530e-02</td></tr>\n",
       "\t<tr><th scope=row>Unknown</th><td>3.250162e-02</td></tr>\n",
       "</tbody>\n",
       "</table>\n"
      ],
      "text/latex": [
       "\\begin{tabular}{r|l}\n",
       "  & trial\\_0\\\\\n",
       "\\hline\n",
       "\tinfant gut 2 & 8.276663e-01\\\\\n",
       "\tAdult gut 1 & 6.286219e-08\\\\\n",
       "\tAdult gut 2 & 2.356501e-04\\\\\n",
       "\tAdult gut 3 & 7.259717e-02\\\\\n",
       "\tAdult skin 1 & 2.051198e-03\\\\\n",
       "\tAdult skin 2 & 3.726890e-04\\\\\n",
       "\tAdult skin 3 & 2.328611e-15\\\\\n",
       "\tSoil 1 & 9.525791e-19\\\\\n",
       "\tSoil 2 & 6.457530e-02\\\\\n",
       "\tUnknown & 3.250162e-02\\\\\n",
       "\\end{tabular}\n"
      ],
      "text/markdown": [
       "\n",
       "| <!--/--> | trial_0 | \n",
       "|---|---|---|---|---|---|---|---|---|---|\n",
       "| infant gut 2 | 8.276663e-01 | \n",
       "| Adult gut 1 | 6.286219e-08 | \n",
       "| Adult gut 2 | 2.356501e-04 | \n",
       "| Adult gut 3 | 7.259717e-02 | \n",
       "| Adult skin 1 | 2.051198e-03 | \n",
       "| Adult skin 2 | 3.726890e-04 | \n",
       "| Adult skin 3 | 2.328611e-15 | \n",
       "| Soil 1 | 9.525791e-19 | \n",
       "| Soil 2 | 6.457530e-02 | \n",
       "| Unknown | 3.250162e-02 | \n",
       "\n",
       "\n"
      ],
      "text/plain": [
       "             trial_0     \n",
       "infant gut 2 8.276663e-01\n",
       "Adult gut 1  6.286219e-08\n",
       "Adult gut 2  2.356501e-04\n",
       "Adult gut 3  7.259717e-02\n",
       "Adult skin 1 2.051198e-03\n",
       "Adult skin 2 3.726890e-04\n",
       "Adult skin 3 2.328611e-15\n",
       "Soil 1       9.525791e-19\n",
       "Soil 2       6.457530e-02\n",
       "Unknown      3.250162e-02"
      ]
     },
     "metadata": {},
     "output_type": "display_data"
    }
   ],
   "source": [
    "print(\"Source mixing proportions\")\n",
    "results <- as.data.frame(FEAST_output$data_prop[,1])\n",
    "names(results) <- c('trial_0')\n",
    "row.names(results) <- c(as.character(envs[train.ix]), 'Unknown')\n",
    "results"
   ]
  },
  {
   "cell_type": "code",
   "execution_count": 71,
   "metadata": {},
   "outputs": [],
   "source": [
    "for (i in seq(1,4)) {\n",
    "    FEAST_output<-FEAST(source=sources, sinks = t(sinks), env = envs[train.ix], em_itr = EM_iterations, COVERAGE = COVERAGE)\n",
    "    results[paste('trial_', i)] <- FEAST_output$data_prop[,1]\n",
    "}"
   ]
  },
  {
   "cell_type": "code",
   "execution_count": 72,
   "metadata": {},
   "outputs": [
    {
     "data": {
      "text/html": [
       "<table>\n",
       "<thead><tr><th></th><th scope=col>trial_0</th><th scope=col>trial_ 1</th><th scope=col>trial_ 2</th><th scope=col>trial_ 3</th><th scope=col>trial_ 4</th></tr></thead>\n",
       "<tbody>\n",
       "\t<tr><th scope=row>infant gut 2</th><td>8.276663e-01</td><td>8.369347e-01</td><td>8.667202e-01</td><td>7.113934e-01</td><td>6.029948e-01</td></tr>\n",
       "\t<tr><th scope=row>Adult gut 1</th><td>6.286219e-08</td><td>9.450099e-04</td><td>1.089164e-03</td><td>9.221287e-05</td><td>3.762034e-06</td></tr>\n",
       "\t<tr><th scope=row>Adult gut 2</th><td>2.356501e-04</td><td>7.624309e-43</td><td>4.966833e-04</td><td>5.632222e-04</td><td>6.530259e-04</td></tr>\n",
       "\t<tr><th scope=row>Adult gut 3</th><td>7.259717e-02</td><td>7.360303e-02</td><td>5.558252e-02</td><td>1.202270e-01</td><td>2.432627e-02</td></tr>\n",
       "\t<tr><th scope=row>Adult skin 1</th><td>2.051198e-03</td><td>9.755197e-09</td><td>2.686632e-10</td><td>1.888229e-03</td><td>1.981973e-03</td></tr>\n",
       "\t<tr><th scope=row>Adult skin 2</th><td>3.726890e-04</td><td>5.978258e-24</td><td>6.148524e-67</td><td>1.690233e-52</td><td>1.102387e-50</td></tr>\n",
       "\t<tr><th scope=row>Adult skin 3</th><td>2.328611e-15</td><td>1.124010e-03</td><td>5.607842e-04</td><td>9.840064e-04</td><td>1.615983e-03</td></tr>\n",
       "\t<tr><th scope=row>Soil 1</th><td>9.525791e-19</td><td>4.467967e-17</td><td>1.148410e-03</td><td>1.204073e-03</td><td>1.626125e-03</td></tr>\n",
       "\t<tr><th scope=row>Soil 2</th><td>6.457530e-02</td><td>1.418600e-02</td><td>5.194668e-02</td><td>7.480826e-02</td><td>5.788192e-02</td></tr>\n",
       "\t<tr><th scope=row>Unknown</th><td>3.250162e-02</td><td>7.320722e-02</td><td>2.245559e-02</td><td>8.883955e-02</td><td>3.089162e-01</td></tr>\n",
       "</tbody>\n",
       "</table>\n"
      ],
      "text/latex": [
       "\\begin{tabular}{r|lllll}\n",
       "  & trial\\_0 & trial\\_ 1 & trial\\_ 2 & trial\\_ 3 & trial\\_ 4\\\\\n",
       "\\hline\n",
       "\tinfant gut 2 & 8.276663e-01 & 8.369347e-01 & 8.667202e-01 & 7.113934e-01 & 6.029948e-01\\\\\n",
       "\tAdult gut 1 & 6.286219e-08 & 9.450099e-04 & 1.089164e-03 & 9.221287e-05 & 3.762034e-06\\\\\n",
       "\tAdult gut 2 & 2.356501e-04 & 7.624309e-43 & 4.966833e-04 & 5.632222e-04 & 6.530259e-04\\\\\n",
       "\tAdult gut 3 & 7.259717e-02 & 7.360303e-02 & 5.558252e-02 & 1.202270e-01 & 2.432627e-02\\\\\n",
       "\tAdult skin 1 & 2.051198e-03 & 9.755197e-09 & 2.686632e-10 & 1.888229e-03 & 1.981973e-03\\\\\n",
       "\tAdult skin 2 & 3.726890e-04 & 5.978258e-24 & 6.148524e-67 & 1.690233e-52 & 1.102387e-50\\\\\n",
       "\tAdult skin 3 & 2.328611e-15 & 1.124010e-03 & 5.607842e-04 & 9.840064e-04 & 1.615983e-03\\\\\n",
       "\tSoil 1 & 9.525791e-19 & 4.467967e-17 & 1.148410e-03 & 1.204073e-03 & 1.626125e-03\\\\\n",
       "\tSoil 2 & 6.457530e-02 & 1.418600e-02 & 5.194668e-02 & 7.480826e-02 & 5.788192e-02\\\\\n",
       "\tUnknown & 3.250162e-02 & 7.320722e-02 & 2.245559e-02 & 8.883955e-02 & 3.089162e-01\\\\\n",
       "\\end{tabular}\n"
      ],
      "text/markdown": [
       "\n",
       "| <!--/--> | trial_0 | trial_ 1 | trial_ 2 | trial_ 3 | trial_ 4 | \n",
       "|---|---|---|---|---|---|---|---|---|---|\n",
       "| infant gut 2 | 8.276663e-01 | 8.369347e-01 | 8.667202e-01 | 7.113934e-01 | 6.029948e-01 | \n",
       "| Adult gut 1 | 6.286219e-08 | 9.450099e-04 | 1.089164e-03 | 9.221287e-05 | 3.762034e-06 | \n",
       "| Adult gut 2 | 2.356501e-04 | 7.624309e-43 | 4.966833e-04 | 5.632222e-04 | 6.530259e-04 | \n",
       "| Adult gut 3 | 7.259717e-02 | 7.360303e-02 | 5.558252e-02 | 1.202270e-01 | 2.432627e-02 | \n",
       "| Adult skin 1 | 2.051198e-03 | 9.755197e-09 | 2.686632e-10 | 1.888229e-03 | 1.981973e-03 | \n",
       "| Adult skin 2 | 3.726890e-04 | 5.978258e-24 | 6.148524e-67 | 1.690233e-52 | 1.102387e-50 | \n",
       "| Adult skin 3 | 2.328611e-15 | 1.124010e-03 | 5.607842e-04 | 9.840064e-04 | 1.615983e-03 | \n",
       "| Soil 1 | 9.525791e-19 | 4.467967e-17 | 1.148410e-03 | 1.204073e-03 | 1.626125e-03 | \n",
       "| Soil 2 | 6.457530e-02 | 1.418600e-02 | 5.194668e-02 | 7.480826e-02 | 5.788192e-02 | \n",
       "| Unknown | 3.250162e-02 | 7.320722e-02 | 2.245559e-02 | 8.883955e-02 | 3.089162e-01 | \n",
       "\n",
       "\n"
      ],
      "text/plain": [
       "             trial_0      trial_ 1     trial_ 2     trial_ 3     trial_ 4    \n",
       "infant gut 2 8.276663e-01 8.369347e-01 8.667202e-01 7.113934e-01 6.029948e-01\n",
       "Adult gut 1  6.286219e-08 9.450099e-04 1.089164e-03 9.221287e-05 3.762034e-06\n",
       "Adult gut 2  2.356501e-04 7.624309e-43 4.966833e-04 5.632222e-04 6.530259e-04\n",
       "Adult gut 3  7.259717e-02 7.360303e-02 5.558252e-02 1.202270e-01 2.432627e-02\n",
       "Adult skin 1 2.051198e-03 9.755197e-09 2.686632e-10 1.888229e-03 1.981973e-03\n",
       "Adult skin 2 3.726890e-04 5.978258e-24 6.148524e-67 1.690233e-52 1.102387e-50\n",
       "Adult skin 3 2.328611e-15 1.124010e-03 5.607842e-04 9.840064e-04 1.615983e-03\n",
       "Soil 1       9.525791e-19 4.467967e-17 1.148410e-03 1.204073e-03 1.626125e-03\n",
       "Soil 2       6.457530e-02 1.418600e-02 5.194668e-02 7.480826e-02 5.788192e-02\n",
       "Unknown      3.250162e-02 7.320722e-02 2.245559e-02 8.883955e-02 3.089162e-01"
      ]
     },
     "metadata": {},
     "output_type": "display_data"
    }
   ],
   "source": [
    "results"
   ]
  },
  {
   "cell_type": "code",
   "execution_count": 105,
   "metadata": {},
   "outputs": [
    {
     "data": {
      "image/png": "[encoded data removed]",
      "text/plain": [
       "plot without title"
      ]
     },
     "metadata": {},
     "output_type": "display_data",
     "source": "R display func"
    }
   ],
   "source": [
    "## Plot results\n",
    "## Standard deviations seem really high across the 5 trials (14% of the mean)\n",
    "barCenters <- barplot(rowMeans(results), las=2)\n",
    "# rowMeans(results)\n",
    "# for (i in rownames(results)) {\n",
    "#     plot.data['s'] <- c(s, sd(results[i,]))\n",
    "# }\n",
    "# s"
   ]
  },
  {
   "cell_type": "code",
   "execution_count": null,
   "metadata": {},
   "outputs": [],
   "source": []
  },
  {
   "cell_type": "code",
   "execution_count": null,
   "metadata": {},
   "outputs": [],
   "source": []
  }
 ],
 "metadata": {
  "kernelspec": {
   "display_name": "R",
   "language": "R",
   "name": "ir"
  },
  "language_info": {
   "codemirror_mode": "r",
   "file_extension": ".r",
   "mimetype": "text/x-r-source",
   "name": "R",
   "pygments_lexer": "r",
   "version": "3.4.1"
  }
 },
 "nbformat": 4,
 "nbformat_minor": 2
}
