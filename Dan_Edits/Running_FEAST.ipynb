{
 "cells": [
  {
   "cell_type": "markdown",
   "metadata": {},
   "source": [
    "## Install some dependencies"
   ]
  },
  {
   "cell_type": "code",
   "execution_count": 18,
   "metadata": {},
   "outputs": [],
   "source": [
    "# install.packages('vegan')\n",
    "# install.packages('ggrepel')\n",
    "# install.packages('doParallel')\n",
    "# install.packages('cowplot')"
   ]
  },
  {
   "cell_type": "code",
   "execution_count": 19,
   "metadata": {},
   "outputs": [],
   "source": [
    "## These are the libraries FEAST needs\n",
    "library(\"vegan\")\n",
    "library(\"dplyr\")\n",
    "library(\"doParallel\")\n",
    "library(\"foreach\")\n",
    "library(\"mgcv\")\n",
    "library(\"reshape2\")\n",
    "library(\"ggplot2\")\n",
    "library(\"cowplot\")\n",
    "library(\"Rcpp\")\n",
    "library(\"RcppArmadillo\")"
   ]
  },
  {
   "cell_type": "markdown",
   "metadata": {},
   "source": [
    "## `FEAST_main.R`"
   ]
  },
  {
   "cell_type": "code",
   "execution_count": 20,
   "metadata": {},
   "outputs": [
    {
     "data": {
      "text/html": [
       "<table>\n",
       "<thead><tr><th></th><th scope=col>used</th><th scope=col>(Mb)</th><th scope=col>gc trigger</th><th scope=col>(Mb)</th><th scope=col>max used</th><th scope=col>(Mb)</th></tr></thead>\n",
       "<tbody>\n",
       "\t<tr><th scope=row>Ncells</th><td>1370222</td><td>73.2   </td><td>2164898</td><td>115.7  </td><td>2164898</td><td>115.7  </td></tr>\n",
       "\t<tr><th scope=row>Vcells</th><td>1524384</td><td>11.7   </td><td>3902117</td><td> 29.8  </td><td>3902115</td><td> 29.8  </td></tr>\n",
       "</tbody>\n",
       "</table>\n"
      ],
      "text/latex": [
       "\\begin{tabular}{r|llllll}\n",
       "  & used & (Mb) & gc trigger & (Mb) & max used & (Mb)\\\\\n",
       "\\hline\n",
       "\tNcells & 1370222 & 73.2    & 2164898 & 115.7   & 2164898 & 115.7  \\\\\n",
       "\tVcells & 1524384 & 11.7    & 3902117 &  29.8   & 3902115 &  29.8  \\\\\n",
       "\\end{tabular}\n"
      ],
      "text/markdown": [
       "\n",
       "| <!--/--> | used | (Mb) | gc trigger | (Mb) | max used | (Mb) | \n",
       "|---|---|\n",
       "| Ncells | 1370222 | 73.2    | 2164898 | 115.7   | 2164898 | 115.7   | \n",
       "| Vcells | 1524384 | 11.7    | 3902117 |  29.8   | 3902115 |  29.8   | \n",
       "\n",
       "\n"
      ],
      "text/plain": [
       "       used    (Mb) gc trigger (Mb)  max used (Mb) \n",
       "Ncells 1370222 73.2 2164898    115.7 2164898  115.7\n",
       "Vcells 1524384 11.7 3902117     29.8 3902115   29.8"
      ]
     },
     "metadata": {},
     "output_type": "display_data"
    }
   ],
   "source": [
    "rm(list = ls())\n",
    "gc()"
   ]
  },
  {
   "cell_type": "code",
   "execution_count": 21,
   "metadata": {},
   "outputs": [
    {
     "data": {
      "text/html": [
       "'/home/jovyan/software/FEAST/FEAST_src/'"
      ],
      "text/latex": [
       "'/home/jovyan/software/FEAST/FEAST\\_src/'"
      ],
      "text/markdown": [
       "'/home/jovyan/software/FEAST/FEAST_src/'"
      ],
      "text/plain": [
       "[1] \"/home/jovyan/software/FEAST/FEAST_src/\""
      ]
     },
     "metadata": {},
     "output_type": "display_data"
    }
   ],
   "source": [
    "paste0(\"/home/jovyan/software/FEAST/FEAST_src/\")"
   ]
  },
  {
   "cell_type": "code",
   "execution_count": 22,
   "metadata": {},
   "outputs": [
    {
     "name": "stdout",
     "output_type": "stream",
     "text": [
      "[1] \"Change directory path\"\n"
     ]
    }
   ],
   "source": [
    "print(\"Change directory path\")\n",
    "dir_path = paste(\"/home/jovyan/software/FEAST/FEAST_src/\")\n",
    "setwd(dir_path)\n",
    "source(\"src.R\")"
   ]
  },
  {
   "cell_type": "code",
   "execution_count": 23,
   "metadata": {},
   "outputs": [
    {
     "ename": "ERROR",
     "evalue": "Error in eval(expr, envir, enclos): object 'number_of_sources' not found\n",
     "execution_count": 23,
     "output_type": "error",
     "traceback": [
      "Error in eval(expr, envir, enclos): object 'number_of_sources' not found\nTraceback:\n"
     ]
    }
   ],
   "source": [
    "#Set the arguments of your data\n",
    "metadata_file = \"your_metadata_file_name\"\n",
    "count_matrix = \"your_taxa_count_matrix\"\n",
    "num_sources <- number_of_sources\n",
    "EM_iterations = 1000 #default value"
   ]
  },
  {
   "cell_type": "code",
   "execution_count": null,
   "metadata": {},
   "outputs": [],
   "source": [
    "setwd(paste0(dir_path, \"Data_files\"))"
   ]
  },
  {
   "cell_type": "code",
   "execution_count": null,
   "metadata": {},
   "outputs": [],
   "source": [
    "# Load sample metadata\n",
    "metadata <- read.csv(file = metadata_file ,header = T, sep = \"\\t\", row.names = 1)"
   ]
  },
  {
   "cell_type": "code",
   "execution_count": null,
   "metadata": {},
   "outputs": [],
   "source": [
    "# Load OTU table\n",
    "otus <- read.table(file = count_matrix, header = T, comment = '', check = F, sep = '\\t')\n",
    "otus <- t(as.matrix(otus))"
   ]
  },
  {
   "cell_type": "code",
   "execution_count": null,
   "metadata": {},
   "outputs": [],
   "source": [
    "# Extract only those samples in common between the two tables\n",
    "common.sample.ids <- intersect(rownames(metadata), rownames(otus))\n",
    "otus <- otus[common.sample.ids,]\n",
    "metadata <- metadata[common.sample.ids,]\n",
    "# Double-check that the mapping file and otu table\n",
    "# had overlapping samples\n",
    "if(length(common.sample.ids) <= 1) {\n",
    "  message <- paste(sprintf('Error: there are %d sample ids in common '),\n",
    "                   'between the metadata file and data table')\n",
    "  stop(message)\n",
    "}\n",
    "\n",
    "envs <- metadata$Env"
   ]
  },
  {
   "cell_type": "code",
   "execution_count": null,
   "metadata": {},
   "outputs": [],
   "source": [
    "# Extract the source environments and source/sink indices\n",
    "\n",
    "train.ix <- which(metadata$SourceSink=='Source')\n",
    "test.ix <- which(metadata$SourceSink=='Sink')\n",
    "COVERAGE =  min(rowSums(otus[c(train.ix, test.ix),]))  #Can be adjusted by the user"
   ]
  },
  {
   "cell_type": "code",
   "execution_count": null,
   "metadata": {},
   "outputs": [],
   "source": [
    "# Define sources and sinks\n",
    "\n",
    "sources <- as.matrix(rarefy(otus[train.ix,], COVERAGE))\n",
    "sinks <- as.matrix(rarefy(t(as.matrix(otus[test.ix,])), COVERAGE))"
   ]
  },
  {
   "cell_type": "code",
   "execution_count": null,
   "metadata": {},
   "outputs": [],
   "source": [
    "print(paste(\"Number of OTUs in the sink sample = \",length(which(sinks > 0))))\n",
    "print(paste(\"Seq depth in the sources and sink samples = \",COVERAGE))\n",
    "print(paste(\"The sink is:\", envs[test.ix]))"
   ]
  },
  {
   "cell_type": "code",
   "execution_count": null,
   "metadata": {},
   "outputs": [],
   "source": [
    "# Estimate source proportions for each sink\n",
    "\n",
    "FEAST_output<-FEAST(source=sources, sinks = t(sinks), env = envs[train.ix], em_itr = EM_iterations, COVERAGE = COVERAGE)\n",
    "Proportions_est <- FEAST_output$data_prop[,1]\n",
    "names(Proportions_est) <- c(as.character(envs[train.ix]), \"unknown\")"
   ]
  },
  {
   "cell_type": "code",
   "execution_count": null,
   "metadata": {},
   "outputs": [],
   "source": [
    "print(\"Source mixing proportions\")\n",
    "Proportions_est"
   ]
  }
 ],
 "metadata": {
  "kernelspec": {
   "display_name": "R",
   "language": "R",
   "name": "ir"
  },
  "language_info": {
   "codemirror_mode": "r",
   "file_extension": ".r",
   "mimetype": "text/x-r-source",
   "name": "R",
   "pygments_lexer": "r",
   "version": "3.4.1"
  }
 },
 "nbformat": 4,
 "nbformat_minor": 2
}
